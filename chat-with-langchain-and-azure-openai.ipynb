{
 "cells": [
  {
   "cell_type": "markdown",
   "metadata": {},
   "source": [
    "首先，安装并更新`langchain`、`langchain-openai`包"
   ]
  },
  {
   "cell_type": "code",
   "execution_count": null,
   "metadata": {},
   "outputs": [],
   "source": [
    "%pip install -qU langchain\n",
    "%pip install -qU langchain-openai"
   ]
  },
  {
   "cell_type": "markdown",
   "metadata": {},
   "source": [
    "然后，设置这些环境变量：\n",
    "- `AZURE_OPENAI_API_KEY`，`AZURE_OPENAI_ENDPOINT`：在你创建 Azure OpenAI 服务后，可以在“密钥和终结点”菜单下查看\n",
    "- `OPENAI_API_VERSION`：在这里查看 [https://learn.microsoft.com/en-us/azure/ai-services/openai/reference](https://learn.microsoft.com/en-us/azure/ai-services/openai/reference)\n",
    "- `AZURE_OPENAI_CHAT_DEPLOYMENT_NAME`：部署的模型名称"
   ]
  },
  {
   "cell_type": "markdown",
   "metadata": {},
   "source": [
    "接下来，实例化一个AzureChatOpenAI的对象，指定`openai_api_version`和`azure_deployment`两个参数。定义消息列表`messages`，包含系统信息和用户信息。调用`invoke`方法，访问LLM获得回应。"
   ]
  },
  {
   "cell_type": "code",
   "execution_count": 27,
   "metadata": {},
   "outputs": [],
   "source": [
    "import os\n",
    "from langchain_core.messages import HumanMessage,SystemMessage\n",
    "from langchain_openai import AzureChatOpenAI\n",
    "\n",
    "# create a llm\n",
    "model = AzureChatOpenAI(\n",
    "  openai_api_version = os.environ[\"AZURE_OPENAI_API_VERSION\"],\n",
    "  azure_deployment = os.environ[\"AZURE_OPENAI_CHAT_DEPLOYMENT_NAME\"]\n",
    ")\n",
    "\n",
    "# define the messages\n",
    "messages = [\n",
    "  SystemMessage(content=\"translate the following from english into chinese\"),\n",
    "  HumanMessage(content=\"hello!\")\n",
    "]\n",
    "\n",
    "# call llm\n",
    "model.invoke(messages)"
   ]
  },
  {
   "cell_type": "markdown",
   "metadata": {},
   "source": [
    "执行 `model.invoke(messages)` ，你大概会得到像下面这样的输出结果。\n",
    "```\n",
    "AIMessage(content='你好！', response_metadata={'token_usage': {'completion_tokens': 3, 'prompt_tokens': 22, 'total_tokens': 25}, 'model_name': 'gpt-35-turbo', 'system_fingerprint': None, 'prompt_filter_results': [{'prompt_index': 0, 'content_filter_results': {'hate': {'filtered': False, 'severity': 'safe'}, 'self_harm': {'filtered': False, 'severity': 'safe'}, 'sexual': {'filtered': False, 'severity': 'safe'}, 'violence': {'filtered': False, 'severity': 'safe'}}}], 'finish_reason': 'stop', 'logprobs': None, 'content_filter_results': {'hate': {'filtered': False, 'severity': 'safe'}, 'self_harm': {'filtered': False, 'severity': 'safe'}, 'sexual': {'filtered': False, 'severity': 'safe'}, 'violence': {'filtered': False, 'severity': 'safe'}}}, id='run-a6ef502b-8b5d-4aab-8a5a-0678485e5d85-0')\n",
    "```"
   ]
  },
  {
   "cell_type": "markdown",
   "metadata": {},
   "source": [
    "这是一个AIMessage结构的数据，通常，我们需要把 `content` 的内容解析出来，展示给用户。\n",
    "\n",
    "现在，让我们从 AIMessage 数据结构中提取`content`内容。"
   ]
  },
  {
   "cell_type": "code",
   "execution_count": 25,
   "metadata": {},
   "outputs": [],
   "source": [
    "from langchain_core.output_parsers import StrOutputParser\n",
    "\n",
    "parser = StrOutputParser()"
   ]
  },
  {
   "cell_type": "markdown",
   "metadata": {},
   "source": [
    "修改调用代码\n",
    "\n",
    "```python\n",
    "result = model.invoke(messages)\n",
    "```"
   ]
  },
  {
   "cell_type": "code",
   "execution_count": null,
   "metadata": {},
   "outputs": [],
   "source": [
    "parser.invoke(result)"
   ]
  },
  {
   "cell_type": "markdown",
   "metadata": {},
   "source": [
    "'你好!'。"
   ]
  }
 ],
 "metadata": {
  "kernelspec": {
   "display_name": "Python 3",
   "language": "python",
   "name": "python3"
  },
  "language_info": {
   "codemirror_mode": {
    "name": "ipython",
    "version": 3
   },
   "file_extension": ".py",
   "mimetype": "text/x-python",
   "name": "python",
   "nbconvert_exporter": "python",
   "pygments_lexer": "ipython3",
   "version": "3.11.3"
  }
 },
 "nbformat": 4,
 "nbformat_minor": 2
}
